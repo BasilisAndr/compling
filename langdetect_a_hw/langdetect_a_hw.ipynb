{
 "cells": [
  {
   "cell_type": "code",
   "execution_count": 5,
   "metadata": {
    "collapsed": false
   },
   "outputs": [],
   "source": [
    "import re\n",
    "import nltk\n",
    "import pickle\n",
    "import pandas as pd\n",
    "from sklearn.metrics.pairwise import cosine_similarity\n",
    "from sklearn.svm import LinearSVC\n",
    "from sklearn.naive_bayes import MultinomialNB\n",
    "from sklearn.metrics import confusion_matrix, f1_score, classification_report\n",
    "from sklearn.feature_extraction.text import TfidfVectorizer\n",
    "from sklearn.model_selection import train_test_split"
   ]
  },
  {
   "cell_type": "markdown",
   "metadata": {},
   "source": [
    "# добыча данных\n",
    "Итак, нам нужно 4 языка с похожими алфавитами. Я беру английский, нидерландский, африкаанс и индонезийский – у них иденичные алфавиты, поэтому разница будет только в нграммах.\n",
    "\n",
    "(на самом деле не совсем идентичные, в африкаанс есть буквы с диакритиками, но они довольно редкие и выяснилось это довольно поздно)"
   ]
  },
  {
   "cell_type": "code",
   "execution_count": 1,
   "metadata": {
    "collapsed": true
   },
   "outputs": [],
   "source": [
    "import wikipedia"
   ]
  },
  {
   "cell_type": "code",
   "execution_count": 3,
   "metadata": {
    "collapsed": false
   },
   "outputs": [
    {
     "name": "stderr",
     "output_type": "stream",
     "text": [
      "/Users/user/myproject/venv/anaconda3/envs/maga/lib/python3.5/site-packages/bs4/__init__.py:181: UserWarning: No parser was explicitly specified, so I'm using the best available HTML parser for this system (\"html5lib\"). This usually isn't a problem, but if you run this code on another system, or in a different virtual environment, it may use a different parser and behave differently.\n",
      "\n",
      "The code that caused this warning is on line 193 of the file /Users/user/myproject/venv/anaconda3/envs/maga/lib/python3.5/runpy.py. To get rid of this warning, change code that looks like this:\n",
      "\n",
      " BeautifulSoup(YOUR_MARKUP})\n",
      "\n",
      "to this:\n",
      "\n",
      " BeautifulSoup(YOUR_MARKUP, \"html5lib\")\n",
      "\n",
      "  markup_type=markup_type))\n"
     ]
    }
   ],
   "source": [
    "langs = ['en', 'af', 'nl', 'id']\n",
    "\n",
    "artcls = {}\n",
    "\n",
    "for lang in langs:\n",
    "    wikipedia.set_lang(lang)\n",
    "    pages = wikipedia.random(pages=200)\n",
    "    contents = []\n",
    "    for pg in pages:\n",
    "        try:\n",
    "            page = wikipedia.page(pg)\n",
    "            contents.append(page.content)\n",
    "        except:\n",
    "            continue\n",
    "    artcls[lang] = contents"
   ]
  },
  {
   "cell_type": "code",
   "execution_count": 5,
   "metadata": {
    "collapsed": false
   },
   "outputs": [
    {
     "name": "stdout",
     "output_type": "stream",
     "text": [
      "id: 199\n",
      "nl: 191\n",
      "en: 188\n",
      "af: 198\n"
     ]
    }
   ],
   "source": [
    "for key in artcls:\n",
    "    print('{}: {}'.format(key, len(artcls[key])))"
   ]
  },
  {
   "cell_type": "code",
   "execution_count": 6,
   "metadata": {
    "collapsed": false
   },
   "outputs": [
    {
     "data": {
      "text/html": [
       "<div>\n",
       "<style scoped>\n",
       "    .dataframe tbody tr th:only-of-type {\n",
       "        vertical-align: middle;\n",
       "    }\n",
       "\n",
       "    .dataframe tbody tr th {\n",
       "        vertical-align: top;\n",
       "    }\n",
       "\n",
       "    .dataframe thead th {\n",
       "        text-align: right;\n",
       "    }\n",
       "</style>\n",
       "<table border=\"1\" class=\"dataframe\">\n",
       "  <thead>\n",
       "    <tr style=\"text-align: right;\">\n",
       "      <th></th>\n",
       "      <th>lg</th>\n",
       "      <th>text</th>\n",
       "    </tr>\n",
       "  </thead>\n",
       "  <tbody>\n",
       "    <tr>\n",
       "      <th>0</th>\n",
       "      <td>en</td>\n",
       "      <td>Ernest Franklin Zeigler II (born (1966-01-31)J...</td>\n",
       "    </tr>\n",
       "    <tr>\n",
       "      <th>1</th>\n",
       "      <td>en</td>\n",
       "      <td>The Al-Zubair 2 is a Sudanese main battle tank...</td>\n",
       "    </tr>\n",
       "    <tr>\n",
       "      <th>2</th>\n",
       "      <td>en</td>\n",
       "      <td>Language proficiency or linguistic proficiency...</td>\n",
       "    </tr>\n",
       "    <tr>\n",
       "      <th>3</th>\n",
       "      <td>en</td>\n",
       "      <td>Aggrey Zola Klaaste (6 January 1940 – 19 June ...</td>\n",
       "    </tr>\n",
       "    <tr>\n",
       "      <th>4</th>\n",
       "      <td>en</td>\n",
       "      <td>Central Fire Station is a historic fire statio...</td>\n",
       "    </tr>\n",
       "  </tbody>\n",
       "</table>\n",
       "</div>"
      ],
      "text/plain": [
       "   lg                                               text\n",
       "0  en  Ernest Franklin Zeigler II (born (1966-01-31)J...\n",
       "1  en  The Al-Zubair 2 is a Sudanese main battle tank...\n",
       "2  en  Language proficiency or linguistic proficiency...\n",
       "3  en  Aggrey Zola Klaaste (6 January 1940 – 19 June ...\n",
       "4  en  Central Fire Station is a historic fire statio..."
      ]
     },
     "execution_count": 6,
     "metadata": {},
     "output_type": "execute_result"
    }
   ],
   "source": [
    "articles = pd.DataFrame({'lg': ['en']*len(artcls['en'])+['af']*len(artcls['af'])+['nl']*len(artcls['nl'])+['id']*len(artcls['id']),\n",
    "                         'text': artcls['en']+artcls['af']+artcls['nl']+artcls['id']})\n",
    "\n",
    "articles.head()"
   ]
  },
  {
   "cell_type": "code",
   "execution_count": 15,
   "metadata": {
    "collapsed": true
   },
   "outputs": [],
   "source": [
    "articles.to_pickle('articles.pickle')"
   ]
  },
  {
   "cell_type": "markdown",
   "metadata": {},
   "source": [
    "# препроцессинг"
   ]
  },
  {
   "cell_type": "code",
   "execution_count": 8,
   "metadata": {
    "collapsed": true
   },
   "outputs": [],
   "source": [
    "# вообще-то токенизатор векторайзера по умолчанию полностью игнорирует знаки препинания но это только если мы по словам смотрим\n",
    "# поэтому удаляем все цифры знаки препинания вот это всё\n",
    "def preproc(text):\n",
    "    from string import punctuation\n",
    "    text = re.sub('[{}0-9”]+'.format(punctuation), '', text)\n",
    "    text = re.sub('\\s+'.format(punctuation), ' ', text)\n",
    "    text = text.lower()\n",
    "    return text"
   ]
  },
  {
   "cell_type": "code",
   "execution_count": 27,
   "metadata": {
    "collapsed": false
   },
   "outputs": [
    {
     "data": {
      "image/png": "[encoded data removed]",
      "text/plain": [
       "<matplotlib.figure.Figure at 0x118dc9128>"
      ]
     },
     "metadata": {},
     "output_type": "display_data"
    }
   ],
   "source": [
    "# несколько более интрепретируемой будет таблица схожести по языкам, а не по документам. \n",
    "# Для этого можно схлопнуть все документы одного языка в одну клетку таблицы\n",
    "\n",
    "articloids = pd.DataFrame({'lg': langs,\n",
    "                         'text': ['\\n'.join(artcls['en']), '\\n'.join(artcls['af']), \n",
    "                                  '\\n'.join(artcls['nl']), '\\n'.join(artcls['id'])]})\n",
    "\n",
    "vect = TfidfVectorizer(ngram_range=(3,3), analyzer='char', preprocessor=preproc)\n",
    "matr = vect.fit_transform(articloids['text'])\n",
    "\n",
    "# таблица схожести\n",
    "\n",
    "similarities = cosine_similarity(matr)\n",
    "\n",
    "\n",
    "import matplotlib.pyplot as plt\n",
    "%matplotlib inline\n",
    "\n",
    "plt.imshow(similarities)\n",
    "plt.colorbar()\n",
    "plt.show()"
   ]
  },
  {
   "cell_type": "markdown",
   "metadata": {},
   "source": [
    "Очевидно, что нидерландский и африкаанс очень похожи друг на друга (как и ожидалось), а ещё африкаанс немного больше похож на индонезийский, чем на английский, а нидерландский наоборот, но это может быть вообще незначимо."
   ]
  },
  {
   "cell_type": "markdown",
   "metadata": {},
   "source": [
    "# обучение"
   ]
  },
  {
   "cell_type": "code",
   "execution_count": 4,
   "metadata": {
    "collapsed": false
   },
   "outputs": [],
   "source": [
    "articles = pd.read_pickle('articles.pickle')"
   ]
  },
  {
   "cell_type": "code",
   "execution_count": 9,
   "metadata": {
    "collapsed": false
   },
   "outputs": [],
   "source": [
    "vect = TfidfVectorizer(ngram_range=(3,3), analyzer='char', preprocessor=preproc)\n",
    "matr = vect.fit_transform(articles['text'])"
   ]
  },
  {
   "cell_type": "code",
   "execution_count": 10,
   "metadata": {
    "collapsed": true
   },
   "outputs": [],
   "source": [
    "X_train, X_test, y_train, y_test = train_test_split(matr, articles['lg'])"
   ]
  },
  {
   "cell_type": "code",
   "execution_count": 11,
   "metadata": {
    "collapsed": false
   },
   "outputs": [
    {
     "data": {
      "text/plain": [
       "MultinomialNB(alpha=1.0, class_prior=None, fit_prior=True)"
      ]
     },
     "execution_count": 11,
     "metadata": {},
     "output_type": "execute_result"
    }
   ],
   "source": [
    "nb = MultinomialNB()\n",
    "nb.fit(X_train, y_train)"
   ]
  },
  {
   "cell_type": "code",
   "execution_count": 13,
   "metadata": {
    "collapsed": false
   },
   "outputs": [
    {
     "name": "stdout",
     "output_type": "stream",
     "text": [
      "             precision    recall  f1-score   support\n",
      "\n",
      "         en       0.83      1.00      0.91        48\n",
      "         af       1.00      1.00      1.00        48\n",
      "         nl       1.00      1.00      1.00        49\n",
      "         id       1.00      0.80      0.89        49\n",
      "\n",
      "avg / total       0.96      0.95      0.95       194\n",
      "\n",
      "[[48  0  0  0]\n",
      " [ 0 48  0  0]\n",
      " [ 0  0 49  0]\n",
      " [10  0  0 39]]\n"
     ]
    }
   ],
   "source": [
    "langs = ['en', 'af', 'nl', 'id']\n",
    "pred = nb.predict(X_test)\n",
    "print(classification_report(y_test, pred, target_names=langs))\n",
    "print(confusion_matrix(y_test, pred))"
   ]
  },
  {
   "cell_type": "markdown",
   "metadata": {},
   "source": [
    "И ничего себе. Модель почему-то только приняла несколько индонезийских текстов за английские, а в остальном безошибочно угадывала языки."
   ]
  },
  {
   "cell_type": "code",
   "execution_count": null,
   "metadata": {
    "collapsed": true
   },
   "outputs": [],
   "source": []
  }
 ],
 "metadata": {
  "kernelspec": {
   "display_name": "maga",
   "language": "python",
   "name": "maga"
  },
  "language_info": {
   "codemirror_mode": {
    "name": "ipython",
    "version": 3
   },
   "file_extension": ".py",
   "mimetype": "text/x-python",
   "name": "python",
   "nbconvert_exporter": "python",
   "pygments_lexer": "ipython3",
   "version": "3.5.4"
  }
 },
 "nbformat": 4,
 "nbformat_minor": 0
}
